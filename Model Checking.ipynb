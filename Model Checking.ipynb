{
 "cells": [
  {
   "cell_type": "markdown",
   "id": "d02be79b",
   "metadata": {
    "id": "d02be79b"
   },
   "source": [
    "# Model Checking Practical Session\n",
    "\n",
    "Practical session of Automated Software Engineering (BMEVIMIAC20), 2024\n",
    "\n",
    "by Levente Bajczi, ftsrg (Critical Systems Research Group), Budapest University of Technology and Economics\n",
    "\n",
    "based on previous work by Csanád Telbisz\n",
    "\n",
    "## Overview\n",
    "\n",
    "The purpose of this session is to get familiar with the ways programs can be analyzed using automated, mathematically precise techniques. \n",
    "We will use the Z3 SMT solver to first solve some problems semi-manually, then we will take a look at ready-to-use automated program verifiers."
   ]
  },
  {
   "cell_type": "markdown",
   "id": "5e94494f-d8f4-4232-86ef-ab9a9e5d41bf",
   "metadata": {},
   "source": [
    "# Part 1: SMT Solving\n",
    "\n",
    "SMT (Satisfiability Modulo Theories) is a problem that tries to find a satisfying assignment to variables such that some expression evaluates to _true_. For example, the `a*a + b*b = c*c` expressions evaluates to _true_ (is _satisfiable_ (**SAT**)) if `a := 3, b:= 4, c := 5` (but other _satisfying_ assignments exist), and `a <= 0 && a >= 1` has no such assignment, therefore, is _unsatisfiable_ (**UNSAT**). "
   ]
  },
  {
   "cell_type": "markdown",
   "id": "qDnmzIHuvnpW",
   "metadata": {
    "id": "qDnmzIHuvnpW"
   },
   "source": [
    "### Install required software"
   ]
  },
  {
   "cell_type": "code",
   "execution_count": null,
   "id": "NU8SifBatir0",
   "metadata": {
    "id": "NU8SifBatir0"
   },
   "outputs": [],
   "source": [
    "!pip install z3-solver"
   ]
  },
  {
   "cell_type": "markdown",
   "id": "wi2plD4iFIWx",
   "metadata": {
    "id": "wi2plD4iFIWx"
   },
   "source": [
    "\n",
    "### Required Imports\n",
    "\n",
    "The required import for Z3 is:"
   ]
  },
  {
   "cell_type": "code",
   "execution_count": null,
   "id": "5fb6f09c294bbf96",
   "metadata": {},
   "outputs": [],
   "source": [
    "from z3 import *"
   ]
  },
  {
   "cell_type": "markdown",
   "id": "c3dee52630ff5fa3",
   "metadata": {},
   "source": [
    "There is a bunch of SMT solvers with different advantages and disadvantages. Some of them also have a Python API which are even interchangeable with the Z3 API in some cases (e.g., the [cvc5 Python API](https://cvc5.github.io/docs/cvc5-1.1.2/api/python/python.html)). You may try other solvers if you like, but we will stick to Z3 in this session as one of the most widely used and stable SMT solvers."
   ]
  },
  {
   "cell_type": "markdown",
   "id": "a15cb237",
   "metadata": {
    "id": "a15cb237"
   },
   "source": [
    "### Overview of the Python SMT API"
   ]
  },
  {
   "cell_type": "markdown",
   "id": "69InHoGJOMpN",
   "metadata": {
    "id": "69InHoGJOMpN"
   },
   "source": [
    "#### Declaration of Various Kinds: Constants/Variables, Functions, etc.\n",
    "\n",
    "One of the first steps when interfacing SMT solvers is to declare the **types** (sorts) and **named symbols** needed for modelling.\n",
    "\n",
    "Using Python, we can declare **variables** (or constants, if you prefer) using the type name as a constructor. As a convention, the solver variable is usually assigned to a Python variable of the same name, which is later used to construct expressions. The available sorts include the ones introduced in the various SMT-LIB theories (integers, floating points, arrays, ...). \n",
    "\n",
    "Pay attention to the definition of integers. In the Integer SMT Theory, integers are _mathematical_, i.e., have no upper or lower bound. When we model integers from programming languages, we usually rely on _bitvector_ types, which are fix-width integers. Bit-vector variables are declared by adding the bit-width as a second argument."
   ]
  },
  {
   "cell_type": "code",
   "execution_count": null,
   "id": "30b33e01",
   "metadata": {
    "colab": {
     "base_uri": "https://localhost:8080/"
    },
    "id": "30b33e01",
    "outputId": "9d55d12b-58b1-43ea-b06a-a150f979bb7a"
   },
   "outputs": [],
   "source": [
    "# variable x ranging over the reals\n",
    "x = Real('x')\n",
    "\n",
    "# variable z ranging over the integers\n",
    "z = Int('z')\n",
    "\n",
    "# boolean variable b\n",
    "b = Bool('b')\n",
    "\n",
    "# 32-bit bitvector bv\n",
    "bv = BitVec('bv', 32)"
   ]
  },
  {
   "cell_type": "markdown",
   "id": "k44_7_Va1Z7C",
   "metadata": {
    "id": "k44_7_Va1Z7C"
   },
   "source": [
    "#### Constructing Expressions\n",
    "\n",
    "Terms and formulas can be built using \"Pythonic\" syntax by using mathematical/infix notation. The available operators correspond to those defined in SMT-LIB; for the details, we refer to the [section on theories](https://theory.stanford.edu/~nikolaj/programmingz3.html#sec-theories) in the _Programming Z3_ article.\n",
    "\n",
    "For simple tasks, we can also use the function `solve` to check satisfiability of a formula, and compute a solution."
   ]
  },
  {
   "cell_type": "code",
   "execution_count": null,
   "id": "gcbtQevN12Lu",
   "metadata": {
    "colab": {
     "base_uri": "https://localhost:8080/"
    },
    "id": "gcbtQevN12Lu",
    "outputId": "4177d855-9bb6-4ffc-b9b5-c8f9f0e7678c"
   },
   "outputs": [],
   "source": [
    "# two variables over Reals\n",
    "x = Real('x')\n",
    "y = Real('y')\n",
    "\n",
    "# terms consisting of expressions\n",
    "term_equality = x == y + 1.5\n",
    "term_nonzero  = y != 0\n",
    "# a conjunction (logical 'and') of two equations\n",
    "f = And(term_equality, term_nonzero)\n",
    "\n",
    "# compute a solution of the formula\n",
    "solve(f)"
   ]
  },
  {
   "cell_type": "code",
   "execution_count": null,
   "id": "612eaa5d-fee4-49b5-984c-cc268df949ca",
   "metadata": {},
   "outputs": [],
   "source": [
    "# conjoining another inequality makes the formula UNSAT\n",
    "solve(f, x < y)"
   ]
  },
  {
   "cell_type": "markdown",
   "id": "OYysvp0v7E9X",
   "metadata": {
    "id": "OYysvp0v7E9X"
   },
   "source": [
    "**Exercise 1**\n",
    "\n",
    "Invert the following real-valued matrix:\n",
    "$$\n",
    "A = \\begin{pmatrix} 1 & 2 \\\\ 3 & 4 \\end{pmatrix}\n",
    "$$\n"
   ]
  },
  {
   "cell_type": "code",
   "execution_count": null,
   "id": "_Jznbicm8O98",
   "metadata": {
    "id": "_Jznbicm8O98"
   },
   "outputs": [],
   "source": [
    "M = [[1, 2],\n",
    "     [3, 4]]\n",
    "\n",
    "# declare four variables over the reals to represent the elements of the inverse matrix M^-1\n",
    "# M^-1 = |a b|\n",
    "#        |c d|\n",
    "\n",
    "#TODO: your answer here\n",
    "\n",
    "# formulate four equations characterising the inverse, use the function solve\n",
    "# (hint: formulate the matrix product M * M^-1 = I manually for each element of I)\n",
    "\n",
    "#TODO: your answer here\n"
   ]
  },
  {
   "cell_type": "markdown",
   "id": "d4524be9-a15e-4b48-8519-ff934c9ce159",
   "metadata": {},
   "source": [
    "## Part 2: Program Verification \n",
    "\n",
    "Next, we will try to use SMT queries to answer a program verification task.\n",
    "\n",
    "Our goal is to prove that in the following program, the assertion never fails:\n",
    "\n",
    "``` c++\n",
    "\n",
    "char i = input();\n",
    "char j = i + 1;\n",
    "assert(j > i);\n",
    "\n",
    "```\n",
    "\n",
    "Logically, the assertion should not fail, because we take an input number, add 1 to it, and assert that it became bigger. Right?"
   ]
  },
  {
   "cell_type": "markdown",
   "id": "e9c96ec5-280d-4424-bd5e-98766ad623f2",
   "metadata": {},
   "source": [
    "**Exercise 2**\n",
    "\n",
    "  Encode the above program's statements as SMT terms!"
   ]
  },
  {
   "cell_type": "code",
   "execution_count": null,
   "id": "7ddd2042-635a-4b5d-bc97-43c43a594293",
   "metadata": {},
   "outputs": [],
   "source": [
    "i = Int('i')\n",
    "j = Int('j')\n",
    "\n",
    "#TODO: your answer here\n",
    "\n",
    "solve(j_assignment, assertion_fail)"
   ]
  },
  {
   "cell_type": "markdown",
   "id": "23beae9b-94a5-46ff-be8d-662a8b51f142",
   "metadata": {},
   "source": [
    "Notice that there was no satisfying solution -- does this mean our program can never fail?\n",
    "\n",
    "Copy the code below (which contains the exact same logic, just instrumented to compile properly) to a new file (`test.c`), compile and run it, and try to cause an assertion violation!\n",
    "\n",
    "``` c++\n",
    "int main() {\n",
    "  char i;\n",
    "  printf(\"Give me i: \");\n",
    "  scanf(\"%hhd\", &i);\n",
    "  char j = i + 1;\n",
    "  if(!(j > i)) printf(\"Assertion violation!\\n\");\n",
    "}\n",
    "```\n",
    "\n",
    "For compilation, you can use `gcc -o test test.c`, after which type `./test` to execute your program.\n",
    "\n",
    "(Hint: `char` is an 8-bit signed number. Try it around its boundary values! If you're unsure, consult [this](https://www.tutorialspoint.com/cprogramming/c_data_types.htm) resource.)"
   ]
  },
  {
   "cell_type": "markdown",
   "id": "029a10bd-2903-400f-938e-cd7bbd5c193d",
   "metadata": {},
   "source": [
    "**Exercise 2b**\n",
    "\n",
    "Re-encode the program's statements to use 8-bit bitvectors instead!"
   ]
  },
  {
   "cell_type": "code",
   "execution_count": null,
   "id": "9e823436-ecde-40bf-881e-4b944a5ffe7f",
   "metadata": {},
   "outputs": [],
   "source": [
    "i = BitVec('i', 8)\n",
    "j = BitVec('j', 8)\n",
    "\n",
    "#TODO: your answer here\n",
    "\n",
    "solve(j_assignment, assertion_fail)"
   ]
  },
  {
   "cell_type": "markdown",
   "id": "f0290035-7054-431d-9e56-669e16d12a83",
   "metadata": {},
   "source": [
    "## Part 3: Program Verification in Practice\n",
    "\n",
    "\n",
    "Next, we will use an automated program verification tool to answer a program verification task.\n",
    "\n",
    "Our goal is to prove that in the following program, the function `reach_error()` is never called (`__VERIFIER_nondet{bool,int}` are _nondeterministic_ values, which models, among others, user input):\n",
    "\n",
    "<details><summary>trex01-1.c</summary>\n",
    "    \n",
    "``` c++\n",
    "void reach_error();\n",
    "\n",
    "_Bool __VERIFIER_nondet_bool();\n",
    "int __VERIFIER_nondet_int();\n",
    "\n",
    "void f(int d) {\n",
    "  int x = __VERIFIER_nondet_int(), y = __VERIFIER_nondet_int(), k = __VERIFIER_nondet_int(), z = 1;\n",
    "  if (!(k <= 1073741823))\n",
    "    return;\n",
    "  L1:\n",
    "  while (z < k) { z = 2 * z; }\n",
    "  if(!(z>=2)) reach_error();\n",
    "  L2:\n",
    "  while (x > 0 && y > 0) {\n",
    "    _Bool c = __VERIFIER_nondet_bool();\n",
    "    if (c) {\n",
    "      P1:\n",
    "      x = x - d;\n",
    "      y = __VERIFIER_nondet_bool();\n",
    "      z = z - 1;\n",
    "    } else {\n",
    "      y = y - d;\n",
    "    }\n",
    "  }\n",
    "}\n",
    "\n",
    "int main() {\n",
    "  _Bool c = __VERIFIER_nondet_bool();\n",
    "  if (c) {\n",
    "    f(1);\n",
    "  } else {\n",
    "    f(2);\n",
    "  }\n",
    "\n",
    "  return 0;\n",
    "}\n",
    "```\n",
    "\n",
    "</details>\n",
    "\n",
    "Even though this is not too big of a program, you probably still don't want to encode it by hand. So let's use a tool that can help in verifying this program."
   ]
  },
  {
   "cell_type": "markdown",
   "id": "808c1553-8e76-4fee-b3e0-518ab1e1e7db",
   "metadata": {},
   "source": [
    "#### fm-weck: Run formal methods tools in containerized environments\n",
    "\n",
    "Verification tools are complex software, usually with many dependencies. Instead of trying to install them directly, we rely on a convenience package called `fm-weck`, which is a command line tool and library that makes the execution of formal methods tools easy. fm-weck downloads the tools and caches them for later use."
   ]
  },
  {
   "cell_type": "code",
   "execution_count": null,
   "id": "3b7b9958-eedd-46e3-a18a-a79393054f1f",
   "metadata": {},
   "outputs": [],
   "source": [
    "!pip install fm-weck"
   ]
  },
  {
   "cell_type": "markdown",
   "id": "6af04a3f-3f2d-40d2-8dbb-e3679d01415a",
   "metadata": {},
   "source": [
    "After installing the command line tool, we can go ahead and install some software verification tools on our machine. For two examples, we will use [Ultimate Automizer](https://www.ultimate-pa.org/automizer/), and [CPAchecker](https://cpachecker.sosy-lab.org/). "
   ]
  },
  {
   "cell_type": "code",
   "execution_count": null,
   "id": "75d19f51-eaa7-4c82-93cd-2c86e667c720",
   "metadata": {},
   "outputs": [],
   "source": [
    "!fm-weck install uautomizer:svcomp24 cpachecker:2.3.1"
   ]
  },
  {
   "cell_type": "markdown",
   "id": "ebd256d1-26a4-4840-87de-6b44e4e13606",
   "metadata": {},
   "source": [
    "Next, we can run one of the tools on the input file `trex01-1.c`:"
   ]
  },
  {
   "cell_type": "code",
   "execution_count": null,
   "id": "4b21aa39-1608-4db9-b960-be8debbb2ee9",
   "metadata": {},
   "outputs": [],
   "source": [
    "!fm-weck run uautomizer:svcomp24 --property unreach-call trex01-1.c 2>/dev/null | tail"
   ]
  },
  {
   "cell_type": "markdown",
   "id": "54c73f2e-1fd7-4a64-9a79-8624f7f7d6cf",
   "metadata": {},
   "source": [
    "Check the line after `Result:`. If it is `FALSE`, the verification found an error, i.e., a path to the `reach_error()` function. Otherwise, if `TRUE` is there, it proved the program's safety."
   ]
  },
  {
   "cell_type": "markdown",
   "id": "7515ee99-2ec3-4ead-9983-2231c5a68d0b",
   "metadata": {},
   "source": [
    "**Exercise**: Check the contents of the `output` folder. Pay special attention to the `UltimateCounterExample.errorpath` file: what can you see? Can you see _why_ the output is what it is?\n"
   ]
  },
  {
   "cell_type": "markdown",
   "id": "79d6c604-d585-446e-afc1-aa113c7b40d9",
   "metadata": {},
   "source": [
    "**Exercise**: Delete the `output` folder, and run the other tool (`cpachecker:2.3.1`) as well! What can you see in its output? Which is \"better\" (which gives more information on the result)?"
   ]
  },
  {
   "cell_type": "markdown",
   "id": "aeadce6b-b9bf-4948-b209-27cdfc77a011",
   "metadata": {},
   "source": [
    "**Exercise**: Try to modify the source code in the `trex01-1.c` file so that it changes the result with one of the tools! Be creative, but beware: if you make the problem much harder to solve, the tools might not finish in time!"
   ]
  },
  {
   "cell_type": "markdown",
   "id": "2Iux1JQNitnt",
   "metadata": {},
   "source": [
    "# Further Exercises, References and Other Resources\n",
    "\n",
    "If you are done with all tasks, we recommend that you head over to [Dennis Yurichev's excellent SAT/SMT by example](https://smt.st/) collection of puzzles and exercises!\n",
    "\n",
    "This material was prepared based on the [practical session](https://sat-smt-ar-school.gitlab.io/www/2024/schedule.html) of Philipp Rümmer (University of Regensburg & Uppsala University) at the SAT/SMT/AR Summer School, 27 June 2024.\n",
    "\n",
    "You can find detailed introductions to SMT-LIB and to the Python APIs, among others, here:\n",
    "\n",
    "* [The SMT-LIB website](https://smt-lib.org)\n",
    "* [David Cok's SMT-LIB Tutorial](https://smtlib.github.io/jSMTLIB/SMTLIBTutorial.pdf)\n",
    "* [Dennis Yurichev's SAT/SMT by example](https://smt.st/)\n",
    "* [Leonardo de Moura's Z3Py Tutorial](https://scungao.github.io/mit-iap17/z3python.html)\n",
    "* [Programming Z3](https://theory.stanford.edu/~nikolaj/programmingz3.html) by Nikolaj Bjørner, Leonardo de Moura, Lev Nachmanson, and Christoph Wintersteiger\n",
    "* [Z3Py Namespace Reference](https://z3prover.github.io/api/html/namespacez3py.html)\n"
   ]
  }
 ],
 "metadata": {
  "colab": {
   "provenance": []
  },
  "kernelspec": {
   "display_name": "Python 3 (ipykernel)",
   "language": "python",
   "name": "python3"
  },
  "language_info": {
   "codemirror_mode": {
    "name": "ipython",
    "version": 3
   },
   "file_extension": ".py",
   "mimetype": "text/x-python",
   "name": "python",
   "nbconvert_exporter": "python",
   "pygments_lexer": "ipython3",
   "version": "3.12.7"
  }
 },
 "nbformat": 4,
 "nbformat_minor": 5
}
